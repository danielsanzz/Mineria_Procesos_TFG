{
 "cells": [
  {
   "cell_type": "code",
   "execution_count": 25,
   "metadata": {},
   "outputs": [],
   "source": [
    "import numpy as np\n",
    "import pandas as pd\n",
    "from sklearn.linear_model import LinearRegression\n",
    "from sklearn.model_selection import train_test_split"
   ]
  },
  {
   "cell_type": "code",
   "execution_count": 26,
   "metadata": {},
   "outputs": [],
   "source": [
    "# Leer datos del archivo CSV\n",
    "data = pd.read_csv('Hombres.csv', sep=';', decimal=',')\n",
    "df_triplicado = pd.concat([data] * 3, ignore_index=True)\n",
    "\n",
    "#obtengo los valores de las columnas deseadas y luego las junto en un mismo array\n",
    "columna_edad = df_triplicado['Edad'].values.reshape((-1, 1))\n",
    "columna_hb = df_triplicado['HB_PRE'].values.reshape((-1, 1))\n",
    "df_completo = pd.DataFrame(np.concatenate((columna_edad, columna_hb), axis=1), columns=['Edad', 'HB_PRE'])\n",
    "x = df_completo.values\n",
    "y = df_triplicado['HB_POST'].values\n",
    "x, y = np.array(x), np.array(y)\n",
    "# Calcular la matriz de covarianza utilizando numpy\n",
    "covariance_matrix = np.cov(x,y, rowvar=False)\n",
    "\n",
    "# Obtener la covarianza entre la variable respuesta y las variables independientes\n",
    "covarianza = covariance_matrix[0, 1:]\n"
   ]
  },
  {
   "cell_type": "code",
   "execution_count": 27,
   "metadata": {},
   "outputs": [],
   "source": [
    "columna1 = data['Edad'].values\n",
    "columna2 = data['HB_PRE'].values\n",
    "matriz = np.column_stack((columna1, columna2))\n"
   ]
  },
  {
   "cell_type": "code",
   "execution_count": 28,
   "metadata": {},
   "outputs": [],
   "source": [
    "x_train, x_test, y_train, y_test=train_test_split(x, y,test_size=0.1, random_state=0)\n",
    "# Crear el modelo de regresión lineal\n",
    "model = LinearRegression().fit(x_train, y_train)"
   ]
  },
  {
   "cell_type": "code",
   "execution_count": 29,
   "metadata": {},
   "outputs": [
    {
     "name": "stdout",
     "output_type": "stream",
     "text": [
      "la media de x es 36.44285714285714 y la de y es 13.278571428571428\n",
      "la varianza de x es 489.77502040816336 y la de y es 1.361969387755102\n",
      "la desviación típica de x es 22.13086126675063 y la de y es 1.167034441546222\n",
      "la covarianza entre x e y es de [-1.09150849 -1.32557443]\n"
     ]
    }
   ],
   "source": [
    "x_media = np.mean(x_train)\n",
    "y_media = np.mean(y_train)\n",
    "x_varianza = np.var(x_train) #variación de los datos respecto a su media (desviacion^2)\n",
    "y_varianza = np.var(y_train)\n",
    "x_desviacion = np.std(x_train) #promedio de las desviaciones individuales frente a la media\n",
    "y_desviacion = np.std(y_train)\n",
    "print(f\"la media de x es {x_media} y la de y es {y_media}\")\n",
    "print(f\"la varianza de x es {x_varianza} y la de y es {y_varianza}\")\n",
    "print(f\"la desviación típica de x es {x_desviacion} y la de y es {y_desviacion}\")\n",
    "print(f\"la covarianza entre x e y es de {covarianza}\")"
   ]
  },
  {
   "cell_type": "code",
   "execution_count": 30,
   "metadata": {},
   "outputs": [
    {
     "name": "stdout",
     "output_type": "stream",
     "text": [
      "coeficiente de determinación: 0.5539177528768682\n"
     ]
    }
   ],
   "source": [
    "# Obtener los coeficientes del modelo\n",
    "r_sq = model.score(x_train, y_train)\n",
    "intercept = model.intercept_\n",
    "slope = model.coef_\n",
    "\n",
    "print(f\"coeficiente de determinación: {r_sq}\")\n",
    "#print(f\"intersección: {intercept}\") #b0 No son útiles en este estudio\n",
    "#print(f\"pendiente: {slope}\") #b1 "
   ]
  },
  {
   "cell_type": "code",
   "execution_count": 31,
   "metadata": {},
   "outputs": [
    {
     "name": "stdout",
     "output_type": "stream",
     "text": [
      "los valores de edad de entrenamiento que se usan son:\n",
      "[[69.  16.1]\n",
      " [49.  14.4]\n",
      " [53.  15.3]\n",
      " [46.  15.6]\n",
      " [40.  17.2]\n",
      " [56.  16.6]\n",
      " [57.  15.6]\n",
      " [69.  16.1]]\n",
      "predicción respuesta:\n",
      "[13.64918573 11.85207488 12.82290954 13.17108892 14.93567058 14.23341555\n",
      " 13.13865939 13.64918573]\n"
     ]
    }
   ],
   "source": [
    "#Predecir la respuesta de y a lo largo de los valores de x\n",
    "y_pred = model.predict(x_test)\n",
    "print(f\"los valores de edad de entrenamiento que se usan son:\\n{x_test}\")\n",
    "print(f\"predicción respuesta:\\n{y_pred}\")"
   ]
  },
  {
   "cell_type": "code",
   "execution_count": 32,
   "metadata": {},
   "outputs": [
    {
     "data": {
      "text/plain": [
       "' #Predecir la respuesta de y con x del 13.8 al 17.2 (valores típicos entre hombres)\\nstart = 13.8\\nend = 17.2\\nstep = 0.2\\nx_new = np.arange(start, end + step, step).reshape((-1, 1))\\ny_new = model.predict(x_new)\\n\\nprint(f\"predicción de nueva respuesta (pasos de 0.2):\\n{y_new}\")\\n\\n#Predecir la respuesta de y para un valor específico de x\\nx_specific = np.array([15.6]).reshape(-1, 1)\\ny_specific = model.predict(x_specific)\\nprint(f\"predicción respuesta para x={x_specific}:\\n{y_specific}\") '"
      ]
     },
     "execution_count": 32,
     "metadata": {},
     "output_type": "execute_result"
    }
   ],
   "source": [
    "\"\"\" #Predecir la respuesta de y con x del 13.8 al 17.2 (valores típicos entre hombres)\n",
    "start = 13.8\n",
    "end = 17.2\n",
    "step = 0.2\n",
    "x_new = np.arange(start, end + step, step).reshape((-1, 1))\n",
    "y_new = model.predict(x_new)\n",
    "\n",
    "print(f\"predicción de nueva respuesta (pasos de 0.2):\\n{y_new}\")\n",
    "\n",
    "#Predecir la respuesta de y para un valor específico de x\n",
    "x_specific = np.array([15.6]).reshape(-1, 1)\n",
    "y_specific = model.predict(x_specific)\n",
    "print(f\"predicción respuesta para x={x_specific}:\\n{y_specific}\") \"\"\""
   ]
  }
 ],
 "metadata": {
  "kernelspec": {
   "display_name": "Python 3",
   "language": "python",
   "name": "python3"
  },
  "language_info": {
   "codemirror_mode": {
    "name": "ipython",
    "version": 3
   },
   "file_extension": ".py",
   "mimetype": "text/x-python",
   "name": "python",
   "nbconvert_exporter": "python",
   "pygments_lexer": "ipython3",
   "version": "3.9.6"
  },
  "orig_nbformat": 4
 },
 "nbformat": 4,
 "nbformat_minor": 2
}
