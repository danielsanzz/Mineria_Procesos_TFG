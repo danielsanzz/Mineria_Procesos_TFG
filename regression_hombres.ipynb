{
 "cells": [
  {
   "cell_type": "code",
   "execution_count": 24,
   "metadata": {},
   "outputs": [],
   "source": [
    "import numpy as np\n",
    "from sklearn.linear_model import LinearRegression #lineal regression\n",
    "from sklearn.preprocessing import PolynomialFeatures #polynomial regression"
   ]
  },
  {
   "cell_type": "code",
   "execution_count": 25,
   "metadata": {},
   "outputs": [],
   "source": [
    "x = np.array([16.6,14.4,15.4,14.7,15.3,15.9,16.6,15.6]).reshape((-1, 1))\n",
    "y = np.array([13.1,12.4,13.2,12.5,13,14.7,14.2,14.6])"
   ]
  },
  {
   "cell_type": "code",
   "execution_count": 26,
   "metadata": {},
   "outputs": [],
   "source": [
    "#Crear el modelo\n",
    "model = LinearRegression().fit(x,y)"
   ]
  },
  {
   "cell_type": "code",
   "execution_count": 27,
   "metadata": {},
   "outputs": [
    {
     "name": "stdout",
     "output_type": "stream",
     "text": [
      "coefficient of determination: 0.364095949111773\n",
      "intercept: 2.716652649285132\n",
      "slope: [0.69049622]\n"
     ]
    }
   ],
   "source": [
    "#modelo de regresión de 1 dimensión que da R, intersección con eje y (x=0) y la pendiente (b1)\n",
    "r_sq = model.score(x, y)\n",
    "print(f\"coefficient of determination: {r_sq}\")\n",
    "print(f\"intercept: {model.intercept_}\")\n",
    "print(f\"slope: {model.coef_}\")"
   ]
  },
  {
   "cell_type": "code",
   "execution_count": 28,
   "metadata": {},
   "outputs": [
    {
     "name": "stdout",
     "output_type": "stream",
     "text": [
      "predicted response:\n",
      "[14.17888982 12.65979815 13.35029437 12.86694701 13.28124474 13.69554247\n",
      " 14.17888982 13.48839361]\n"
     ]
    }
   ],
   "source": [
    "#Para predecir la respuesta de y a lo largo de los valores de x\n",
    "y_pred = model.predict(x)\n",
    "print(f\"predicted response:\\n{y_pred}\")"
   ]
  },
  {
   "cell_type": "code",
   "execution_count": 29,
   "metadata": {},
   "outputs": [
    {
     "data": {
      "text/plain": [
       "array([12.24550042, 12.38359966, 12.52169891, 12.65979815, 12.79789739,\n",
       "       12.93599664, 13.07409588, 13.21219512, 13.35029437, 13.48839361,\n",
       "       13.62649285, 13.76459209, 13.90269134, 14.04079058, 14.17888982,\n",
       "       14.31698907, 14.45508831, 14.59318755])"
      ]
     },
     "execution_count": 29,
     "metadata": {},
     "output_type": "execute_result"
    }
   ],
   "source": [
    "#Predecir la respuesta de y con x del 0 al 4\n",
    "start=13.8\n",
    "end=17.2\n",
    "step=0.2\n",
    "x_new = np.arange(start, end + step, step).reshape((-1, 1))\n",
    "x_new\n",
    "y_new = model.predict(x_new)\n",
    "y_new"
   ]
  },
  {
   "cell_type": "code",
   "execution_count": 31,
   "metadata": {},
   "outputs": [
    {
     "data": {
      "text/plain": [
       "array([13.48839361])"
      ]
     },
     "execution_count": 31,
     "metadata": {},
     "output_type": "execute_result"
    }
   ],
   "source": [
    "x_new=np.array([15.6]).reshape(-1,1)\n",
    "y_new=model.predict(x_new)\n",
    "y_new"
   ]
  }
 ],
 "metadata": {
  "kernelspec": {
   "display_name": "Python 3",
   "language": "python",
   "name": "python3"
  },
  "language_info": {
   "codemirror_mode": {
    "name": "ipython",
    "version": 3
   },
   "file_extension": ".py",
   "mimetype": "text/x-python",
   "name": "python",
   "nbconvert_exporter": "python",
   "pygments_lexer": "ipython3",
   "version": "3.9.6"
  },
  "orig_nbformat": 4
 },
 "nbformat": 4,
 "nbformat_minor": 2
}
