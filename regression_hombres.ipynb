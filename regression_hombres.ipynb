{
 "cells": [
  {
   "cell_type": "code",
   "execution_count": 17,
   "metadata": {},
   "outputs": [],
   "source": [
    "import numpy as np\n",
    "import pandas as pd\n",
    "import matplotlib.pyplot as plt #gráficas\n",
    "from sklearn.linear_model import LinearRegression #modelo de regresión lineal\n",
    "from sklearn.model_selection import train_test_split #dividir datos en sets de entrenamiento y test"
   ]
  },
  {
   "cell_type": "code",
   "execution_count": 18,
   "metadata": {},
   "outputs": [],
   "source": [
    "# Leer datos del archivo CSV\n",
    "data = pd.read_csv('Hombres.csv', sep=';', decimal=',')\n",
    "df_triplicado = pd.concat([data] * 3, ignore_index=True)\n",
    "x = df_triplicado['Edad'].values.reshape((-1, 1))\n",
    "y = df_triplicado['HB_POST'].values\n"
   ]
  },
  {
   "cell_type": "code",
   "execution_count": 19,
   "metadata": {},
   "outputs": [],
   "source": [
    "x_train, x_test, y_train, y_test=train_test_split(x, y,test_size=0.1, random_state=0)\n",
    "# Crear el modelo de regresión lineal\n",
    "model = LinearRegression().fit(x_train, y_train)"
   ]
  },
  {
   "cell_type": "code",
   "execution_count": 20,
   "metadata": {},
   "outputs": [
    {
     "name": "stdout",
     "output_type": "stream",
     "text": [
      "la media de x es 57.15714285714286 y la de y es 13.278571428571428\n",
      "la varianza de x es 120.76102040816326 y la de y es 1.361969387755102\n",
      "la desviación típica de x es 10.98913192241149 y la de y es 1.167034441546222\n",
      "la covarianza entre x e y es de -1.6415113871635632\n",
      "coeficiente de correlación entre x e y es de -0.12616761408063795\n"
     ]
    }
   ],
   "source": [
    "x_media = np.mean(x_train)\n",
    "y_media = np.mean(y_train)\n",
    "x_varianza = np.var(x_train) #variación de los datos respecto a su media (desviacion^2)\n",
    "y_varianza = np.var(y_train)\n",
    "covarianza = np.cov(x_train.flatten(), y_train)[0][1]  # Covarianza entre x e y, relación lineal entre x e y, si covarianza>0, y aumentará cuando aumente x. Si <0, cuando una aumenta, la otra disminuye, y viceversa.\n",
    "x_desviacion = np.std(x_train) #promedio de las desviaciones individuales frente a la media\n",
    "y_desviacion = np.std(y_train)\n",
    "coef_correlacion= np.corrcoef(x_train.flatten(), y_train)[0][1]\n",
    "print(f\"la media de x es {x_media} y la de y es {y_media}\")\n",
    "print(f\"la varianza de x es {x_varianza} y la de y es {y_varianza}\")\n",
    "print(f\"la desviación típica de x es {x_desviacion} y la de y es {y_desviacion}\")\n",
    "print(f\"la covarianza entre x e y es de {covarianza}\")\n",
    "print(f\"coeficiente de correlación entre x e y es de {coef_correlacion}\")"
   ]
  },
  {
   "cell_type": "code",
   "execution_count": 21,
   "metadata": {},
   "outputs": [
    {
     "name": "stdout",
     "output_type": "stream",
     "text": [
      "coeficiente de determinación: 0.015918266842800288\n",
      "pendiente: [-0.01339887]\n"
     ]
    }
   ],
   "source": [
    "# Obtener los coeficientes del modelo\n",
    "r_sq = model.score(x_train, y_train)\n",
    "intercept = model.intercept_\n",
    "slope = model.coef_\n",
    "\n",
    "print(f\"coeficiente de determinación: {r_sq}\")\n",
    "#print(f\"intersección: {intercept}\") #b0 No son útiles en este estudio\n",
    "print(f\"pendiente: {slope}\") #b1 "
   ]
  },
  {
   "cell_type": "code",
   "execution_count": 22,
   "metadata": {},
   "outputs": [
    {
     "data": {
      "image/png": "[encoded data removed]",
      "text/plain": [
       "<Figure size 640x480 with 1 Axes>"
      ]
     },
     "metadata": {},
     "output_type": "display_data"
    }
   ],
   "source": [
    "# Gráfica los datos y la recta de regresión\n",
    "plt.scatter(x_train, y_train, color='blue', label='Datos')\n",
    "plt.plot(x_train, model.predict(x_train), color='red', label='Regresión lineal')\n",
    "plt.xlabel('HTO_PRE')\n",
    "plt.ylabel('HTO_POST')\n",
    "plt.legend()\n",
    "plt.show()"
   ]
  },
  {
   "cell_type": "code",
   "execution_count": 23,
   "metadata": {},
   "outputs": [
    {
     "name": "stdout",
     "output_type": "stream",
     "text": [
      "los valores de edad de entrenamiento que se usan son:\n",
      "[[69]\n",
      " [49]\n",
      " [53]\n",
      " [46]\n",
      " [40]\n",
      " [56]\n",
      " [57]\n",
      " [69]]\n",
      "predicción respuesta:\n",
      "[13. 13. 13. 13. 14. 13. 13. 13.]\n"
     ]
    }
   ],
   "source": [
    "#Predecir la respuesta de y a lo largo de los valores de x\n",
    "y_pred = model.predict(x_test)\n",
    "y_pred = y_pred.round(0)\n",
    "print(f\"los valores de edad de entrenamiento que se usan son:\\n{x_test}\")\n",
    "print(f\"predicción respuesta:\\n{y_pred}\")"
   ]
  },
  {
   "cell_type": "code",
   "execution_count": 24,
   "metadata": {},
   "outputs": [
    {
     "data": {
      "text/plain": [
       "' #Predecir la respuesta de y con x del 13.8 al 17.2 (valores típicos entre hombres)\\nstart = 13.8\\nend = 17.2\\nstep = 0.2\\nx_new = np.arange(start, end + step, step).reshape((-1, 1))\\ny_new = model.predict(x_new)\\n\\nprint(f\"predicción de nueva respuesta (pasos de 0.2):\\n{y_new}\")\\n\\n#Predecir la respuesta de y para un valor específico de x\\nx_specific = np.array([15.6]).reshape(-1, 1)\\ny_specific = model.predict(x_specific)\\nprint(f\"predicción respuesta para x={x_specific}:\\n{y_specific}\") '"
      ]
     },
     "execution_count": 24,
     "metadata": {},
     "output_type": "execute_result"
    }
   ],
   "source": [
    "\"\"\" #Predecir la respuesta de y con x del 13.8 al 17.2 (valores típicos entre hombres)\n",
    "start = 13.8\n",
    "end = 17.2\n",
    "step = 0.2\n",
    "x_new = np.arange(start, end + step, step).reshape((-1, 1))\n",
    "y_new = model.predict(x_new)\n",
    "\n",
    "print(f\"predicción de nueva respuesta (pasos de 0.2):\\n{y_new}\")\n",
    "\n",
    "#Predecir la respuesta de y para un valor específico de x\n",
    "x_specific = np.array([15.6]).reshape(-1, 1)\n",
    "y_specific = model.predict(x_specific)\n",
    "print(f\"predicción respuesta para x={x_specific}:\\n{y_specific}\") \"\"\""
   ]
  }
 ],
 "metadata": {
  "kernelspec": {
   "display_name": "Python 3",
   "language": "python",
   "name": "python3"
  },
  "language_info": {
   "codemirror_mode": {
    "name": "ipython",
    "version": 3
   },
   "file_extension": ".py",
   "mimetype": "text/x-python",
   "name": "python",
   "nbconvert_exporter": "python",
   "pygments_lexer": "ipython3",
   "version": "3.9.6"
  },
  "orig_nbformat": 4
 },
 "nbformat": 4,
 "nbformat_minor": 2
}
