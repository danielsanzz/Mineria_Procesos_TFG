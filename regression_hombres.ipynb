{
 "cells": [
  {
   "cell_type": "code",
   "execution_count": 1,
   "metadata": {},
   "outputs": [],
   "source": [
    "import numpy as np\n",
    "import pandas as pd\n",
    "from sklearn.linear_model import LinearRegression"
   ]
  },
  {
   "cell_type": "code",
   "execution_count": 2,
   "metadata": {},
   "outputs": [],
   "source": [
    "# Leer datos del archivo CSV\n",
    "data = pd.read_csv('Hombres.csv', sep=';', decimal=',')\n",
    "x = data['HB_PRE'].values.reshape((-1, 1))\n",
    "y = data['HB_POST'].values\n",
    "\n",
    "# Crear el modelo de regresión lineal\n",
    "model = LinearRegression().fit(x, y)"
   ]
  },
  {
   "cell_type": "code",
   "execution_count": 7,
   "metadata": {},
   "outputs": [
    {
     "name": "stdout",
     "output_type": "stream",
     "text": [
      "la media de x es 15.742307692307692 y la de y es 13.288461538461538\n",
      "la varianza de x es 0.6278254437869827 y la de y es 1.293328402366864\n",
      "la desviación típica de x es 0.7923543675572078 y la de y es 1.1372459726755968\n",
      "la covarianza entre x e y es de 0.7009076923076927\n"
     ]
    }
   ],
   "source": [
    "x_media = np.mean(x)\n",
    "y_media = np.mean(y)\n",
    "x_varianza = np.var(x) #variación de los datos respecto a su media (desviacion^2)\n",
    "y_varianza = np.var(y)\n",
    "covarianza = np.cov(x.flatten(), y)[0][1]  # Covarianza entre x e y, relación lineal entre x e y, si covarianza>0, y aumentará cuando aumente x. Si <0, cuando una aumenta, la otra disminuye, y viceversa.\n",
    "x_desviacion = np.std(x) #promedio de las desviaciones individuales frente a la media\n",
    "y_desviacion = np.std(y)\n",
    "print(f\"la media de x es {x_media} y la de y es {y_media}\")\n",
    "print(f\"la varianza de x es {x_varianza} y la de y es {y_varianza}\")\n",
    "print(f\"la desviación típica de x es {x_desviacion} y la de y es {y_desviacion}\")\n",
    "print(f\"la covarianza entre x e y es de {covarianza}\")"
   ]
  },
  {
   "cell_type": "code",
   "execution_count": 4,
   "metadata": {},
   "outputs": [
    {
     "name": "stdout",
     "output_type": "stream",
     "text": [
      "coeficiente de determinación: 0.5593804018669628\n",
      "intersección: -3.6103814707476207\n",
      "pendiente: [1.07346669]\n"
     ]
    }
   ],
   "source": [
    "# Obtener los coeficientes del modelo\n",
    "r_sq = model.score(x, y)\n",
    "intercept = model.intercept_\n",
    "slope = model.coef_\n",
    "\n",
    "print(f\"coeficiente de determinación: {r_sq}\")\n",
    "print(f\"intersección: {intercept}\") #b0\n",
    "print(f\"pendiente: {slope}\") #b1"
   ]
  },
  {
   "cell_type": "code",
   "execution_count": 5,
   "metadata": {},
   "outputs": [
    {
     "name": "stdout",
     "output_type": "stream",
     "text": [
      "predicción respuesta:\n",
      "[14.20916567 11.84753894 12.92100563 12.16957894 12.81365896 13.45773898\n",
      " 14.20916567 13.13569897 13.13569897 14.101819   12.92100563 13.13569897\n",
      " 13.77977899 13.0283523  13.35039231 12.06223228 14.74589901 14.20916567\n",
      " 14.20916567 14.85324568 13.24304564 13.13569897 13.13569897 13.67243232\n",
      " 12.70631229 11.31080559]\n"
     ]
    }
   ],
   "source": [
    "#Predecir la respuesta de y a lo largo de los valores de x\n",
    "y_pred = model.predict(x)\n",
    "print(f\"predicción respuesta:\\n{y_pred}\")"
   ]
  },
  {
   "cell_type": "code",
   "execution_count": 6,
   "metadata": {},
   "outputs": [
    {
     "name": "stdout",
     "output_type": "stream",
     "text": [
      "predicción de nueva respuesta (pasos de 0.2):\n",
      "[11.20345892 11.41815226 11.6328456  11.84753894 12.06223228 12.27692561\n",
      " 12.49161895 12.70631229 12.92100563 13.13569897 13.35039231 13.56508565\n",
      " 13.77977899 13.99447233 14.20916567 14.423859   14.63855234 14.85324568]\n",
      "predicción respuesta para x=[[15.6]]:\n",
      "[13.13569897]\n"
     ]
    }
   ],
   "source": [
    "#Predecir la respuesta de y con x del 13.8 al 17.2 (valores típicos entre hombres)\n",
    "start = 13.8\n",
    "end = 17.2\n",
    "step = 0.2\n",
    "x_new = np.arange(start, end + step, step).reshape((-1, 1))\n",
    "y_new = model.predict(x_new)\n",
    "\n",
    "print(f\"predicción de nueva respuesta (pasos de 0.2):\\n{y_new}\")\n",
    "\n",
    "#Predecir la respuesta de y para un valor específico de x\n",
    "x_specific = np.array([15.6]).reshape(-1, 1)\n",
    "y_specific = model.predict(x_specific)\n",
    "print(f\"predicción respuesta para x={x_specific}:\\n{y_specific}\")"
   ]
  }
 ],
 "metadata": {
  "kernelspec": {
   "display_name": "Python 3",
   "language": "python",
   "name": "python3"
  },
  "language_info": {
   "codemirror_mode": {
    "name": "ipython",
    "version": 3
   },
   "file_extension": ".py",
   "mimetype": "text/x-python",
   "name": "python",
   "nbconvert_exporter": "python",
   "pygments_lexer": "ipython3",
   "version": "3.9.6"
  },
  "orig_nbformat": 4
 },
 "nbformat": 4,
 "nbformat_minor": 2
}
