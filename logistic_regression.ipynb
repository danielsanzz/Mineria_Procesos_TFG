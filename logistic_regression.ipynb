{
 "cells": [
  {
   "cell_type": "code",
   "execution_count": 319,
   "metadata": {},
   "outputs": [],
   "source": [
    "import pandas as pd \n",
    "import seaborn as sns \n",
    "import numpy as np \n",
    "from sklearn.model_selection import train_test_split #dividir datos en sets de entrenamiento y test\n",
    "from sklearn.linear_model import LogisticRegression #modelo de regresión logística\n",
    "from sklearn.metrics import classification_report #parámetros de precisión del modelo\n",
    "from matplotlib import pyplot #gráficas\n",
    "from sklearn.metrics import accuracy_score, precision_score, confusion_matrix #matriz de confusión y parámetros de precisión del modelo"
   ]
  },
  {
   "cell_type": "code",
   "execution_count": 320,
   "metadata": {},
   "outputs": [
    {
     "name": "stdout",
     "output_type": "stream",
     "text": [
      "Index(['NHC', 'Edad', 'Sexo', 'Lado', 'Anticohagulantes',\n",
      "       'ASA(Riesgo anestesico paciente)', 'Motivo Intervención',\n",
      "       'Dia de Ingreso', 'Día Semana Ingreso', 'Dia de la semana iqx',\n",
      "       'Tipo de protesis', 'Cirujano Principal', 'Dia Intervencion',\n",
      "       'Dia Semana alta', 'Día de alta', 'Días ingresado', 'Hora de entrada',\n",
      "       'Tiempo TOTAL QX', 'Tipo de anestesia', 'ATB(Antibiotico)', 'Momento',\n",
      "       'HB_PRE', 'HTO-PRE', 'HB_POST', 'HTO-POST', 'TX(Transfusion)',\n",
      "       'Complicaciones_Post', 'Complicaciones', 'Procedencia',\n",
      "       'Patologias_previas', 'PAT_PREV'],\n",
      "      dtype='object')\n"
     ]
    }
   ],
   "source": [
    "#Abrir el archivo csv\n",
    "df = pd.read_csv('Todos.csv', sep=';', decimal=',')\n",
    "df.head()\n",
    "print(df.columns)"
   ]
  },
  {
   "cell_type": "code",
   "execution_count": 321,
   "metadata": {},
   "outputs": [
    {
     "name": "stdout",
     "output_type": "stream",
     "text": [
      "<class 'pandas.core.frame.DataFrame'>\n",
      "RangeIndex: 33 entries, 0 to 32\n",
      "Data columns (total 31 columns):\n",
      " #   Column                           Non-Null Count  Dtype  \n",
      "---  ------                           --------------  -----  \n",
      " 0   NHC                              33 non-null     int64  \n",
      " 1   Edad                             33 non-null     int64  \n",
      " 2   Sexo                             33 non-null     object \n",
      " 3   Lado                             33 non-null     object \n",
      " 4   Anticohagulantes                 33 non-null     object \n",
      " 5   ASA(Riesgo anestesico paciente)  33 non-null     object \n",
      " 6   Motivo Intervención              33 non-null     object \n",
      " 7   Dia de Ingreso                   33 non-null     object \n",
      " 8   Día Semana Ingreso               33 non-null     object \n",
      " 9   Dia de la semana iqx             33 non-null     object \n",
      " 10  Tipo de protesis                 33 non-null     object \n",
      " 11  Cirujano Principal               33 non-null     object \n",
      " 12  Dia Intervencion                 33 non-null     object \n",
      " 13  Dia Semana alta                  33 non-null     object \n",
      " 14  Día de alta                      33 non-null     object \n",
      " 15  Días ingresado                   33 non-null     int64  \n",
      " 16  Hora de entrada                  33 non-null     object \n",
      " 17  Tiempo TOTAL QX                  33 non-null     int64  \n",
      " 18  Tipo de anestesia                33 non-null     object \n",
      " 19  ATB(Antibiotico)                 33 non-null     object \n",
      " 20  Momento                          33 non-null     object \n",
      " 21  HB_PRE                           33 non-null     float64\n",
      " 22  HTO-PRE                          33 non-null     float64\n",
      " 23  HB_POST                          33 non-null     float64\n",
      " 24  HTO-POST                         33 non-null     float64\n",
      " 25  TX(Transfusion)                  33 non-null     object \n",
      " 26  Complicaciones_Post              33 non-null     object \n",
      " 27  Complicaciones                   33 non-null     object \n",
      " 28  Procedencia                      33 non-null     object \n",
      " 29  Patologias_previas               33 non-null     object \n",
      " 30  PAT_PREV                         33 non-null     object \n",
      "dtypes: float64(4), int64(4), object(23)\n",
      "memory usage: 8.1+ KB\n"
     ]
    }
   ],
   "source": [
    "df.info()\n",
    "#comprobación de qué variables son categóricas"
   ]
  },
  {
   "cell_type": "code",
   "execution_count": 322,
   "metadata": {},
   "outputs": [],
   "source": [
    "#convertir las variables categóricas en 'dummy variables' (variables con 2 o más niveles de categorías)\n",
    "Riesgo= pd.get_dummies(df['ASA(Riesgo anestesico paciente)'],drop_first=True)\n",
    "Transfusion=pd.get_dummies(df['TX(Transfusion)'],drop_first=True)\n",
    "Anti=pd.get_dummies(df['Anticohagulantes'],drop_first=True)\n",
    "Sexo= pd.get_dummies(df['Sexo'],drop_first=True)\n",
    "Lado= pd.get_dummies(df['Lado'],drop_first=True)\n",
    "Motivo= pd.get_dummies(df['Motivo Intervención'],drop_first=True)\n",
    "Urbano=pd.get_dummies(df['Procedencia'],drop_first=True)\n",
    "Pat_previas=pd.get_dummies(df['Patologias_previas'],drop_first=True)\n",
    "Pat_prev=pd.get_dummies(df['PAT_PREV'],drop_first=True)\n",
    "Complicaciones_post=pd.get_dummies(df['Complicaciones_Post'],drop_first=True)\n",
    "Complicaciones=pd.get_dummies(df['Complicaciones'],drop_first=True)"
   ]
  },
  {
   "cell_type": "code",
   "execution_count": 323,
   "metadata": {},
   "outputs": [
    {
     "name": "stdout",
     "output_type": "stream",
     "text": [
      "Index(['HB_PRE', 'HB_POST', 'Procedencia'], dtype='object')\n"
     ]
    }
   ],
   "source": [
    "#Reemplazar las anteriores columnas con dummies\n",
    "df.drop(['Lado','Sexo','Anticohagulantes','Edad','Días ingresado','Tiempo TOTAL QX', 'HTO-PRE','HTO-POST','Motivo Intervención','Complicaciones','TX(Transfusion)', 'Día Semana Ingreso','Complicaciones_Post', 'Patologias_previas','ATB(Antibiotico)', 'Momento','Tipo de anestesia','Día de alta', 'Hora de entrada','Cirujano Principal', 'Dia Intervencion','Edad','Días ingresado','Dia Semana alta','ASA(Riesgo anestesico paciente)','Dia de Ingreso', 'Dia de la semana iqx','PAT_PREV', 'Tipo de protesis', 'NHC'], axis=1, inplace=True)\n",
    "#Concatenar las nuevas columnas con las dummies al df\n",
    "df = pd.concat([df], axis = 1)\n",
    "print(df.columns)"
   ]
  },
  {
   "cell_type": "code",
   "execution_count": 324,
   "metadata": {},
   "outputs": [],
   "source": [
    "labels=pd.DataFrame(df['Procedencia'])\n",
    "labels.Procedencia[labels.Procedencia =='Zaragoza']=1\n",
    "labels.Procedencia[labels.Procedencia =='Rural']=0\n",
    "\n",
    "df=df.drop(['Procedencia'], axis=1)\n",
    "labels=labels.apply(pd.to_numeric)"
   ]
  },
  {
   "cell_type": "code",
   "execution_count": 325,
   "metadata": {},
   "outputs": [
    {
     "name": "stderr",
     "output_type": "stream",
     "text": [
      "/Users/danielsanzvaltuena/Library/Python/3.9/lib/python/site-packages/sklearn/utils/validation.py:1143: DataConversionWarning: A column-vector y was passed when a 1d array was expected. Please change the shape of y to (n_samples, ), for example using ravel().\n",
      "  y = column_or_1d(y, warn=True)\n"
     ]
    }
   ],
   "source": [
    "x_train, x_test, y_train, y_test=train_test_split(df, labels,test_size=0.3, random_state=0)\n",
    "# Crear el modelo de regresión logística\n",
    "logmodel = LogisticRegression(class_weight='balanced').fit(x_train, y_train)\n",
    "predictions_log=logmodel.predict(x_test)"
   ]
  },
  {
   "cell_type": "code",
   "execution_count": 326,
   "metadata": {},
   "outputs": [
    {
     "name": "stdout",
     "output_type": "stream",
     "text": [
      "los valores de Hemoglobina de entrenamiento que se usan son:\n",
      "    HB_PRE  HB_POST\n",
      "11    15.6     12.2\n",
      "20    15.7     11.6\n",
      "24    15.2     12.2\n",
      "17    16.6     13.6\n",
      "2     15.4     13.2\n",
      "25    13.9     10.7\n",
      "26    14.4     11.9\n",
      "16    17.1     15.9\n",
      "10    15.4     13.2\n",
      "32    14.1     12.4\n",
      "predicción respuesta:\n",
      "[1 1 1 1 0 1 1 0 0 0]\n"
     ]
    }
   ],
   "source": [
    "#Predecir la respuesta de y a lo largo de los valores de x\n",
    "y_pred = logmodel.predict(x_test)\n",
    "y_pred = y_pred\n",
    "print(f\"los valores de Hemoglobina de entrenamiento que se usan son:\\n{x_test}\")\n",
    "print(f\"predicción respuesta:\\n{y_pred}\")"
   ]
  },
  {
   "cell_type": "code",
   "execution_count": 327,
   "metadata": {},
   "outputs": [
    {
     "name": "stdout",
     "output_type": "stream",
     "text": [
      "Accuracy: 0.5\n",
      "Precisión: 0.6666666666666666\n",
      "Matriz de confusión:\n",
      " [[1 2]\n",
      " [3 4]]\n"
     ]
    }
   ],
   "source": [
    "#Parámetros de precisión y matriz de confusión\n",
    "accuracy = accuracy_score(y_test, predictions_log)\n",
    "precision = precision_score(y_test, predictions_log)\n",
    "confusion = confusion_matrix(y_test, predictions_log)\n",
    "print(\"Accuracy:\", accuracy)\n",
    "print(\"Precisión:\", precision)\n",
    "print(\"Matriz de confusión:\\n\", confusion)\n"
   ]
  },
  {
   "cell_type": "code",
   "execution_count": 328,
   "metadata": {},
   "outputs": [
    {
     "name": "stdout",
     "output_type": "stream",
     "text": [
      "              precision    recall  f1-score   support\n",
      "\n",
      "           0       0.25      0.33      0.29         3\n",
      "           1       0.67      0.57      0.62         7\n",
      "\n",
      "    accuracy                           0.50        10\n",
      "   macro avg       0.46      0.45      0.45        10\n",
      "weighted avg       0.54      0.50      0.52        10\n",
      "\n"
     ]
    }
   ],
   "source": [
    "#Más valores de precisión\n",
    "print (classification_report (y_test, predictions_log))"
   ]
  },
  {
   "cell_type": "code",
   "execution_count": 329,
   "metadata": {},
   "outputs": [
    {
     "data": {
      "image/png": "[encoded data removed]",
      "text/plain": [
       "<Figure size 1000x1000 with 2 Axes>"
      ]
     },
     "metadata": {},
     "output_type": "display_data"
    }
   ],
   "source": [
    "#Dibujar la matriz de confusión\n",
    "sns.heatmap(confusion, annot=True, fmt=\"d\", cmap=\"Blues\",)\n",
    "pyplot.xlabel(\"Valores de predicción\")\n",
    "pyplot.ylabel(\"Valores reales\")\n",
    "pyplot.title(\"Matriz de Confusión\")\n",
    "pyplot.show()\n"
   ]
  },
  {
   "cell_type": "code",
   "execution_count": 330,
   "metadata": {},
   "outputs": [],
   "source": [
    "importance = logmodel.coef_ .flatten()"
   ]
  },
  {
   "cell_type": "code",
   "execution_count": 331,
   "metadata": {},
   "outputs": [
    {
     "data": {
      "image/png": "[encoded data removed]",
      "text/plain": [
       "<Figure size 1000x1000 with 1 Axes>"
      ]
     },
     "metadata": {},
     "output_type": "display_data"
    }
   ],
   "source": [
    "#Importancia de cada variable independiente en la variable respuesta\n",
    "pyplot.rcParams [\"figure.figsize\" ] = (10, 10)\n",
    "pyplot.barh(df.columns, importance, color = 'g')\n",
    "pyplot.title ( \"Gráfico de barras. Importancia de cada variable en respuesta\")\n",
    "pyplot.xlabel (\"Puntuación\" )\n",
    "pyplot.show()"
   ]
  }
 ],
 "metadata": {
  "kernelspec": {
   "display_name": "Python 3",
   "language": "python",
   "name": "python3"
  },
  "language_info": {
   "codemirror_mode": {
    "name": "ipython",
    "version": 3
   },
   "file_extension": ".py",
   "mimetype": "text/x-python",
   "name": "python",
   "nbconvert_exporter": "python",
   "pygments_lexer": "ipython3",
   "version": "3.9.6"
  },
  "orig_nbformat": 4
 },
 "nbformat": 4,
 "nbformat_minor": 2
}
